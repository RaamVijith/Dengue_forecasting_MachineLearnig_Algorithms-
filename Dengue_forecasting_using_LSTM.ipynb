{
  "nbformat": 4,
  "nbformat_minor": 0,
  "metadata": {
    "colab": {
      "provenance": [],
      "authorship_tag": "ABX9TyPXGKmU0CaQlCISIldvRCDP",
      "include_colab_link": true
    },
    "kernelspec": {
      "name": "python3",
      "display_name": "Python 3"
    },
    "language_info": {
      "name": "python"
    }
  },
  "cells": [
    {
      "cell_type": "markdown",
      "metadata": {
        "id": "view-in-github",
        "colab_type": "text"
      },
      "source": [
        "<a href=\"https://colab.research.google.com/github/RaamVijith/Dengue_forecasting_RNN_LSTM/blob/main/Dengue_forecasting_using_LSTM.ipynb\" target=\"_parent\"><img src=\"https://colab.research.google.com/assets/colab-badge.svg\" alt=\"Open In Colab\"/></a>"
      ]
    },
    {
      "cell_type": "code",
      "execution_count": null,
      "metadata": {
        "id": "rqhSukkc_-wz"
      },
      "outputs": [],
      "source": [
        "import tensorflow as tf\n",
        "import os\n",
        "import pandas as pd\n",
        "import numpy as np"
      ]
    },
    {
      "cell_type": "code",
      "source": [
        "from google.colab import drive\n",
        "drive.mount('/content/gdrive')\n",
        "\n",
        "!ln -s /content/gdrive/My\\ Drive/ /mydrive\n",
        "!ls /mydrive"
      ],
      "metadata": {
        "colab": {
          "base_uri": "https://localhost:8080/"
        },
        "id": "jL0OuKNdEEjm",
        "outputId": "20664f4a-caf9-4b9e-c416-d55bca908419"
      },
      "execution_count": null,
      "outputs": [
        {
          "output_type": "stream",
          "name": "stdout",
          "text": [
            "Drive already mounted at /content/gdrive; to attempt to forcibly remount, call drive.mount(\"/content/gdrive\", force_remount=True).\n",
            "ln: failed to create symbolic link '/mydrive/My Drive': File exists\n",
            " appsheet\n",
            " Classroom\n",
            "'Colab Notebooks'\n",
            " CV_Ramalingam_Vijithan.pdf\n",
            " dataset\n",
            " IMG_20211006_1048181111sign.jpg\n",
            "'IMG_E0085Lo Qulty.jpg'\n",
            "'IMG_E0087lo Qulty.jpg'\n",
            "'Mini Project final presentation template(2022).pptx'\n",
            "'My Drive'\n",
            " Research\n"
          ]
        }
      ]
    },
    {
      "cell_type": "code",
      "source": [
        "%cd /mydrive/dataset/\n"
      ],
      "metadata": {
        "colab": {
          "base_uri": "https://localhost:8080/"
        },
        "id": "Q3x3UfyBFt5_",
        "outputId": "42b98840-5361-4a6f-cc17-67c202a48be0"
      },
      "execution_count": null,
      "outputs": [
        {
          "output_type": "stream",
          "name": "stdout",
          "text": [
            "/content/gdrive/My Drive/dataset\n"
          ]
        }
      ]
    },
    {
      "cell_type": "code",
      "source": [
        "df_data = pd.read_csv(\"data1.csv\")"
      ],
      "metadata": {
        "id": "404gxk8FFzui"
      },
      "execution_count": null,
      "outputs": []
    }
  ]
}